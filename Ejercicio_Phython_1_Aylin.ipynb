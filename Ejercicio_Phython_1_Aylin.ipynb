{
  "nbformat": 4,
  "nbformat_minor": 0,
  "metadata": {
    "colab": {
      "provenance": [],
      "authorship_tag": "ABX9TyMowTnNBwKT7uJXJCtacB5z",
      "include_colab_link": true
    },
    "kernelspec": {
      "name": "python3",
      "display_name": "Python 3"
    },
    "language_info": {
      "name": "python"
    }
  },
  "cells": [
    {
      "cell_type": "markdown",
      "metadata": {
        "id": "view-in-github",
        "colab_type": "text"
      },
      "source": [
        "<a href=\"https://colab.research.google.com/github/AYLINJUAREZPESINA/ACTIVIDADES-2082515/blob/main/Ejercicio_Phython_1_Aylin.ipynb\" target=\"_parent\"><img src=\"https://colab.research.google.com/assets/colab-badge.svg\" alt=\"Open In Colab\"/></a>"
      ]
    },
    {
      "cell_type": "code",
      "execution_count": null,
      "metadata": {
        "id": "3LBoxHrjkb_k"
      },
      "outputs": [],
      "source": [
        "Actividad 5 Diseño de algoritmos en Python, Aylin Yamileth Juarez Pesina,2082515,N4\n"
      ]
    },
    {
      "cell_type": "code",
      "source": [
        "# Solicitar el nombre al usuario\n",
        "nombre = input(\"Por favor, ingresa tu nombre: \")\n",
        "\n",
        "# Lista de nombres excluidos\n",
        "nombres_excluidos = [\"Ana\", \"Juan\", \"Pedro\"]\n",
        "\n",
        "# Verificar si el nombre está en la lista excluida\n",
        "if nombre in nombres_excluidos:\n",
        "    print(\"Lo siento, no puedo saludarte.\")\n",
        "else:\n",
        "    print(f\"Hola, {nombre}!\")\n"
      ],
      "metadata": {
        "colab": {
          "base_uri": "https://localhost:8080/"
        },
        "id": "9pdzV886lAQQ",
        "outputId": "8bb9df59-8b61-4671-a849-664609a9a931"
      },
      "execution_count": 1,
      "outputs": [
        {
          "output_type": "stream",
          "name": "stdout",
          "text": [
            "Por favor, ingresa tu nombre: Aylin\n",
            "Hola, Aylin!\n"
          ]
        }
      ]
    },
    {
      "cell_type": "code",
      "source": [
        "# Definición de la función para invertir la lista\n",
        "def invertir_lista(lista):\n",
        "    return lista[::-1]\n",
        "\n",
        "# Solicitar el número de elementos en la lista\n",
        "n = int(input(\"¿Cuántos elementos tendrá la lista? \"))\n",
        "\n",
        "# Inicializar la lista vacía\n",
        "lista = []\n",
        "\n",
        "# Solicitar al usuario que ingrese los elementos de la lista\n",
        "for i in range(n):\n",
        "    elemento = input(f\"Ingrese el elemento {i+1}: \")\n",
        "    lista.append(elemento)\n",
        "\n",
        "# Invertir la lista usando la función\n",
        "lista_invertida = invertir_lista(lista)\n",
        "\n",
        "# Mostrar la lista invertida\n",
        "print(\"La lista invertida es:\", lista_invertida)\n"
      ],
      "metadata": {
        "colab": {
          "base_uri": "https://localhost:8080/"
        },
        "id": "MbUaKcC-lNr5",
        "outputId": "457472ee-bc78-40fc-ca4f-850dfe176078"
      },
      "execution_count": 2,
      "outputs": [
        {
          "output_type": "stream",
          "name": "stdout",
          "text": [
            "¿Cuántos elementos tendrá la lista? 8\n",
            "Ingrese el elemento 1: 2\n",
            "Ingrese el elemento 2: 3\n",
            "Ingrese el elemento 3: 4\n",
            "Ingrese el elemento 4: 6\n",
            "Ingrese el elemento 5: 79\n",
            "Ingrese el elemento 6: 85\n",
            "Ingrese el elemento 7: 89\n",
            "Ingrese el elemento 8: 91\n",
            "La lista invertida es: ['91', '89', '85', '79', '6', '4', '3', '2']\n"
          ]
        }
      ]
    },
    {
      "cell_type": "code",
      "source": [
        "# Función para generar la serie de Fibonacci\n",
        "def generar_fibonacci(n):\n",
        "    fibonacci = []\n",
        "    a, b = 0, 1\n",
        "    for _ in range(n):\n",
        "        fibonacci.append(a)\n",
        "        a, b = b, a + b\n",
        "    return fibonacci\n",
        "\n",
        "# Solicitar al usuario cuántos números desea generar\n",
        "num = int(input(\"¿Cuántos números de la serie de Fibonacci quieres generar? \"))\n",
        "\n",
        "# Generar y mostrar la serie de Fibonacci\n",
        "serie_fibonacci = generar_fibonacci(num)\n",
        "print(\"La serie de Fibonacci es:\", serie_fibonacci)\n"
      ],
      "metadata": {
        "colab": {
          "base_uri": "https://localhost:8080/"
        },
        "id": "noJ4v0ptlWn0",
        "outputId": "924d43ef-a814-4398-f01b-eeca2577ec36"
      },
      "execution_count": 3,
      "outputs": [
        {
          "output_type": "stream",
          "name": "stdout",
          "text": [
            "¿Cuántos números de la serie de Fibonacci quieres generar? 11\n",
            "La serie de Fibonacci es: [0, 1, 1, 2, 3, 5, 8, 13, 21, 34, 55]\n"
          ]
        }
      ]
    },
    {
      "cell_type": "code",
      "source": [
        "import random\n",
        "\n",
        "# Generar un número aleatorio entre 1 y 100\n",
        "numero_objetivo = random.randint(1, 100)\n",
        "\n",
        "# Inicializar variable para la adivinanza del usuario\n",
        "adivinanza = None\n",
        "\n",
        "print(\"¡Bienvenido al juego de adivinar el número!\")\n",
        "print(\"He generado un número aleatorio entre 1 y 100. ¡Intenta adivinarlo!\")\n",
        "\n",
        "# Bucle para continuar solicitando adivinanzas hasta que el usuario acierte\n",
        "while adivinanza != numero_objetivo:\n",
        "    # Solicitar una adivinanza al usuario\n",
        "    adivinanza = int(input(\"Ingresa tu adivinanza: \"))\n",
        "\n",
        "    # Proporcionar pistas\n",
        "    if adivinanza < numero_objetivo:\n",
        "        print(\"El número es mayor. ¡Intenta de nuevo!\")\n",
        "    elif adivinanza > numero_objetivo:\n",
        "        print(\"El número es menor. ¡Intenta de nuevo!\")\n",
        "    else:\n",
        "        print(\"¡Felicidades! Adivinaste el número correctamente.\")\n"
      ],
      "metadata": {
        "colab": {
          "base_uri": "https://localhost:8080/"
        },
        "id": "Nbo1xVRClboV",
        "outputId": "b6b82aed-a40f-44f6-c534-be0cff75d568"
      },
      "execution_count": 4,
      "outputs": [
        {
          "output_type": "stream",
          "name": "stdout",
          "text": [
            "¡Bienvenido al juego de adivinar el número!\n",
            "He generado un número aleatorio entre 1 y 100. ¡Intenta adivinarlo!\n",
            "Ingresa tu adivinanza: 33\n",
            "El número es menor. ¡Intenta de nuevo!\n",
            "Ingresa tu adivinanza: 24\n",
            "El número es menor. ¡Intenta de nuevo!\n",
            "Ingresa tu adivinanza: 46\n",
            "El número es menor. ¡Intenta de nuevo!\n",
            "Ingresa tu adivinanza: 12\n",
            "El número es mayor. ¡Intenta de nuevo!\n",
            "Ingresa tu adivinanza: 21\n",
            "¡Felicidades! Adivinaste el número correctamente.\n"
          ]
        }
      ]
    },
    {
      "cell_type": "code",
      "source": [
        "# Función para verificar si un número es primo\n",
        "def es_primo(n):\n",
        "    if n < 2:\n",
        "        return False\n",
        "    for i in range(2, int(n**0.5) + 1):\n",
        "        if n % i == 0:\n",
        "            return False\n",
        "    return True\n",
        "\n",
        "# Solicitar al usuario el rango de números\n",
        "inicio = int(input(\"Ingresa el número de inicio del rango: \"))\n",
        "fin = int(input(\"Ingresa el número final del rango: \"))\n",
        "\n",
        "# Mostrar los números primos en el rango dado\n",
        "print(f\"Números primos entre {inicio} y {fin}:\")\n",
        "for num in range(inicio, fin + 1):\n",
        "    if es_primo(num):\n",
        "        print(num)\n"
      ],
      "metadata": {
        "colab": {
          "base_uri": "https://localhost:8080/"
        },
        "id": "tkhuIIPUlinv",
        "outputId": "399e7345-7f0a-46cd-c6dc-f3494cead4ee"
      },
      "execution_count": 5,
      "outputs": [
        {
          "output_type": "stream",
          "name": "stdout",
          "text": [
            "Ingresa el número de inicio del rango: 9\n",
            "Ingresa el número final del rango: 21\n",
            "Números primos entre 9 y 21:\n",
            "11\n",
            "13\n",
            "17\n",
            "19\n"
          ]
        }
      ]
    },
    {
      "cell_type": "code",
      "source": [
        "# Función para sumar dos números\n",
        "def sumar(a, b):\n",
        "    return a + b\n",
        "\n",
        "\n",
        "# Función para restar dos números\n",
        "def restar(a, b):\n",
        "    return a - b\n",
        "\n",
        "\n",
        "# Función para multiplicar dos números\n",
        "def multiplicar(a, b):\n",
        "    return a * b\n",
        "\n",
        "\n",
        "# Función para dividir dos números\n",
        "def dividir(a, b):\n",
        "    if b != 0:\n",
        "        return a / b\n",
        "    else:\n",
        "        return \"Error: No se puede dividir por cero\"\n",
        "\n",
        "\n",
        "# Solicitar al usuario que ingrese dos números\n",
        "numero1 = float(input(\"Ingresa el primer número: \"))\n",
        "numero2 = float(input(\"Ingresa el segundo número: \"))\n",
        "\n",
        "\n",
        "# Mostrar las opciones de operación\n",
        "print(\"\\nElige la operación que deseas realizar:\")\n",
        "print(\"1. Suma\")\n",
        "print(\"2. Resta\")\n",
        "print(\"3. Multiplicación\")\n",
        "print(\"4. División\")\n",
        "\n",
        "\n",
        "# Solicitar la elección del usuario\n",
        "opcion = int(input(\"\\nIngresa el número de la operación (1/2/3/4): \"))\n",
        "\n",
        "\n",
        "# Realizar la operación según la opción seleccionada\n",
        "if opcion == 1:\n",
        "    resultado = sumar(numero1, numero2)\n",
        "    print(f\"\\nEl resultado de sumar {numero1} y {numero2} es: {resultado}\")\n",
        "elif opcion == 2:\n",
        "    resultado = restar(numero1, numero2)\n",
        "    print(f\"\\nEl resultado de restar {numero1} y {numero2} es: {resultado}\")\n",
        "elif opcion == 3:\n",
        "    resultado = multiplicar(numero1, numero2)\n",
        "    print(f\"\\nEl resultado de multiplicar {numero1} y {numero2} es: {resultado}\")\n",
        "elif opcion == 4:\n",
        "    resultado = dividir(numero1, numero2)\n",
        "    print(f\"\\nEl resultado de dividir {numero1} entre {numero2} es: {resultado}\")\n",
        "else:\n",
        "    print(\"Opción no válida. Por favor, elige una operación entre 1 y 4.\")\n",
        "\n",
        "\n",
        "\n",
        "\n",
        "\n"
      ],
      "metadata": {
        "colab": {
          "base_uri": "https://localhost:8080/"
        },
        "id": "YGj2UyIeloXa",
        "outputId": "c4856ff2-3584-4e17-b54a-458d4f978eec"
      },
      "execution_count": 6,
      "outputs": [
        {
          "output_type": "stream",
          "name": "stdout",
          "text": [
            "Ingresa el primer número: 3\n",
            "Ingresa el segundo número: 1\n",
            "\n",
            "Elige la operación que deseas realizar:\n",
            "1. Suma\n",
            "2. Resta\n",
            "3. Multiplicación\n",
            "4. División\n",
            "\n",
            "Ingresa el número de la operación (1/2/3/4): 2\n",
            "\n",
            "El resultado de restar 3.0 y 1.0 es: 2.0\n"
          ]
        }
      ]
    }
  ]
}